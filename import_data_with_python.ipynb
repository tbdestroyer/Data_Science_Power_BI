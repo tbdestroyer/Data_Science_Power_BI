{
 "cells": [
  {
   "cell_type": "markdown",
   "id": "c7e7cce4",
   "metadata": {},
   "source": [
    "# Code to create the categorical data and import in Power BI\n",
    "# For Correaltion with Cramer's V\n",
    "Get this as a Python script (cut and paste) in Power BI in to a Python Visual and run it to create a table\n",
    "from the dataframe below"
   ]
  },
  {
   "cell_type": "code",
   "execution_count": 3,
   "id": "3e762a32",
   "metadata": {},
   "outputs": [
    {
     "name": "stdout",
     "output_type": "stream",
     "text": [
      "       index  LIGHT_DESC  COLLISION_TYPE_DESC  SURF_COND_DESC  RD_DIV_DESC  \\\n",
      "0          0           2                   11               7            4   \n",
      "1          1           2                   16               0            5   \n",
      "2          2           2                    8               7            5   \n",
      "3          3           2                    8               0            5   \n",
      "4          4           0                   17               7            3   \n",
      "...      ...         ...                  ...             ...          ...   \n",
      "48275  48275           5                   18               6            1   \n",
      "48276  48276           2                   17               7            4   \n",
      "48277  48277           0                   11               0            5   \n",
      "48278  48278           2                   11               7            5   \n",
      "48279  48279           2                   10               0            3   \n",
      "\n",
      "       REPORT_TYPE  WEATHER_DESC  HARM_EVENT_DESC1  \n",
      "0                2             5                16  \n",
      "1                2             3                16  \n",
      "2                2             5                16  \n",
      "3                1             3                13  \n",
      "4                2             5                10  \n",
      "...            ...           ...               ...  \n",
      "48275            2             7                18  \n",
      "48276            2             5                 6  \n",
      "48277            2             3                16  \n",
      "48278            2             5                16  \n",
      "48279            1             3                16  \n",
      "\n",
      "[48280 rows x 8 columns]\n"
     ]
    }
   ],
   "source": [
    "import pandas as pd\n",
    "from sklearn import preprocessing\n",
    "\n",
    "data = pd.read_csv(\"C:/Users/e9817562/Documents/private/private2/INST414/Final_project/Maryland_state_crash.csv\",index_col=0,low_memory=False)\n",
    "\n",
    "data = data[[i for i in data.columns if i in ('LIGHT_DESC','COLLISION_TYPE_DESC','SURF_COND_DESC',\n",
    "'RD_DIV_DESC','REPORT_TYPE','WEATHER_DESC','HARM_EVENT_DESC1')]]\n",
    "data = data.dropna()\n",
    "\n",
    "#add an index column for Power BI to prevent script that drops duplicate rows\n",
    "data = data.reset_index()\n",
    "\n",
    "#then we drop the index using the next line when we us the dataset/table in another script\n",
    "#data.drop(columns=[\"index\"], inplace=True)\n",
    "label = preprocessing.LabelEncoder()\n",
    "data_encoded = pd.DataFrame() \n",
    "\n",
    "for i in data.columns :\n",
    "  data_encoded[i]=label.fit_transform(data[i])\n",
    "\n",
    "#Need this print to create the table in Powwer BI\n",
    "print(data_encoded)"
   ]
  },
  {
   "cell_type": "code",
   "execution_count": null,
   "id": "da777285",
   "metadata": {},
   "outputs": [],
   "source": []
  }
 ],
 "metadata": {
  "kernelspec": {
   "display_name": "Python 3",
   "language": "python",
   "name": "python3"
  },
  "language_info": {
   "codemirror_mode": {
    "name": "ipython",
    "version": 3
   },
   "file_extension": ".py",
   "mimetype": "text/x-python",
   "name": "python",
   "nbconvert_exporter": "python",
   "pygments_lexer": "ipython3",
   "version": "3.8.8"
  }
 },
 "nbformat": 4,
 "nbformat_minor": 5
}
